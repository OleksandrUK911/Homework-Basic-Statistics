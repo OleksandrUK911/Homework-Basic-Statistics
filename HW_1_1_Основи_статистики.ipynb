{
  "nbformat": 4,
  "nbformat_minor": 0,
  "metadata": {
    "colab": {
      "provenance": []
    },
    "kernelspec": {
      "name": "python3",
      "display_name": "Python 3"
    },
    "language_info": {
      "name": "python"
    }
  },
  "cells": [
    {
      "cell_type": "markdown",
      "source": [
        "В цьому домашньому завданні відпрацюємо з вами знання, отримані в модулі зі статистики.\n",
        "\n",
        "**Завдання 1.** Ми обговорили з Вами на лекції, що велика літера Сігма грецького алфавіту позначає в математиці суму. Знайдіть з використанням Python $\\Sigma x$, $\\Sigma x^2$, та $\\Sigma (x-1)^2$ для наступного набору даних:\n",
        "`1 3 4`\n",
        "Виведіть результат кожного обчислення на екран."
      ],
      "metadata": {
        "id": "SDhaTqxcWhnP"
      }
    },
    {
      "cell_type": "code",
      "source": [
        "# Задаємо список чисел\n",
        "x = [1, 3, 4]\n",
        "\n",
        "# Виводимо суму всіх елементів (Σx)\n",
        "print(\"Σx =\", sum(x))  # 1 + 3 + 4 = 8\n",
        "\n",
        "# Виводимо суму квадратів елементів (Σx²)\n",
        "print(\"Σx² =\", sum(i**2 for i in x))  # 1² + 3² + 4² = 1 + 9 + 16 = 26\n",
        "\n",
        "# Виводимо суму квадратів різниці кожного елемента від 1 (Σ(x−1)²)\n",
        "print(\"Σ(x−1)² =\", sum((i - 1)**2 for i in x))  # (1−1)² + (3−1)² + (4−1)² = 0 + 4 + 9 = 13"
      ],
      "metadata": {
        "id": "B1mgx_IBT0e8",
        "colab": {
          "base_uri": "https://localhost:8080/"
        },
        "outputId": "161b7ffc-c14e-4a91-da84-69c29627385a"
      },
      "execution_count": null,
      "outputs": [
        {
          "output_type": "stream",
          "name": "stdout",
          "text": [
            "Σx = 8\n",
            "Σx² = 26\n",
            "Σ(x−1)² = 13\n"
          ]
        }
      ]
    },
    {
      "cell_type": "markdown",
      "source": [
        "**Завдання 2.** Ми зібрали дані про суму покупок в гривнях 20ма випадково обраними клієнтами в нашому магазині (всього клієнтів у нас більше) за минулий місяць. Вони представлені в змінній `sum_purchases`. Знайдіть **вибіркове середнє** для цих даних кожним з зазначених методів:   \n",
        "\n",
        "  2.1. без використання жодних бібліотек, користуючись тільки Python.  \n",
        "  2.2. використовуючи відповідний метод бібліотеки `numpy`.\n",
        "\n",
        "  Виведіть результат обчислень в кожному з випадків на екран та порівняйте результати. Вони співпадають?"
      ],
      "metadata": {
        "id": "fa78aW5lhiia"
      }
    },
    {
      "cell_type": "code",
      "execution_count": null,
      "metadata": {
        "id": "_9kMt3rq6V5m"
      },
      "outputs": [],
      "source": [
        "sum_purchases = [ 316,  493,  367,  153,  224,  121,  322,  450,  196,  397,  281,\n",
        "  239,  484,  124,  223,  448,  432,  255, 4310, 3524]"
      ]
    },
    {
      "cell_type": "code",
      "source": [
        "# Обчислюємо вибіркове середнє вручну: сума всіх значень поділена на кількість\n",
        "mean_manual = sum(sum_purchases) / len(sum_purchases)\n",
        "print(\"Середнє без бібліотек:\", mean_manual)"
      ],
      "metadata": {
        "id": "wPmL919HT1c0",
        "colab": {
          "base_uri": "https://localhost:8080/"
        },
        "outputId": "e53a56a4-e6ef-4217-d0bf-03a4277d16e4"
      },
      "execution_count": null,
      "outputs": [
        {
          "output_type": "stream",
          "name": "stdout",
          "text": [
            "Середнє без бібліотек: 667.95\n"
          ]
        }
      ]
    },
    {
      "cell_type": "code",
      "source": [
        "import numpy as np\n",
        "\n",
        "# Створюємо numpy-масив із тих самих даних\n",
        "sum_purchases = np.array([316, 493, 367, 153, 224, 121, 322, 450, 196, 397,\n",
        "                          281, 239, 484, 124, 223, 448, 432, 255, 4310, 3524])\n",
        "\n",
        "# Обчислюємо вибіркове середнє\n",
        "mean_numpy = np.mean(sum_purchases)\n",
        "print(\"Середнє з numpy:\", mean_numpy)"
      ],
      "metadata": {
        "colab": {
          "base_uri": "https://localhost:8080/"
        },
        "id": "4jnqdny7d3I_",
        "outputId": "d10b7d1e-97ae-4fbc-ceaa-88a52128135c"
      },
      "execution_count": null,
      "outputs": [
        {
          "output_type": "stream",
          "name": "stdout",
          "text": [
            "Середнє з numpy: 667.95\n"
          ]
        }
      ]
    },
    {
      "cell_type": "markdown",
      "source": [
        "**Завдання 3.** Для того ж набору даних в змінній `sum_purchases` обчисліть **медіану** кожним з зазначених методів:  \n",
        "\n",
        "  3.1. без використання жодних бібліотек, користуючись тільки Python.  \n",
        "  3.2. використовуючи відповідний метод бібліотеки numpy.  \n",
        "\n",
        "Виведіть результат обчислень в кожному з випадків на екран. Порівняйте результати зі значенням вибіркового середнього. Напишіть коментар, для яких задач ви б використовували вибіркове середнє, а для яких - медіану?"
      ],
      "metadata": {
        "id": "FMdoxZd0kZdW"
      }
    },
    {
      "cell_type": "markdown",
      "source": [
        " 3.1. Медіана без використання бібліотек (тільки Python)"
      ],
      "metadata": {
        "id": "P_kEbDZ-yv-Z"
      }
    },
    {
      "cell_type": "code",
      "source": [
        "# Набір даних\n",
        "sum_purchases = [316, 493, 367, 153, 224, 121, 322, 450, 196, 397,\n",
        "                 281, 239, 484, 124, 223, 448, 432, 255, 4310, 3524]\n",
        "\n",
        "# Сортуємо дані\n",
        "sorted_data = sorted(sum_purchases)\n",
        "\n",
        "# Обчислюємо медіану\n",
        "n = len(sorted_data)\n",
        "if n % 2 == 1:\n",
        "    # Непарна кількість — беремо середній елемент\n",
        "    median_manual = sorted_data[n // 2]\n",
        "else:\n",
        "    # Парна кількість — середнє двох центральних\n",
        "    median_manual = (sorted_data[n // 2 - 1] + sorted_data[n // 2]) / 2\n",
        "\n",
        "# Виводимо результат\n",
        "print(\"Медіана без бібліотек:\", median_manual)"
      ],
      "metadata": {
        "id": "x58BumvuT2nl",
        "colab": {
          "base_uri": "https://localhost:8080/"
        },
        "outputId": "69f89010-e17e-4ea5-fc4a-765fd8df5926"
      },
      "execution_count": null,
      "outputs": [
        {
          "output_type": "stream",
          "name": "stdout",
          "text": [
            "Медіана без бібліотек: 319.0\n"
          ]
        }
      ]
    },
    {
      "cell_type": "markdown",
      "source": [
        "3.2. Медіана з використанням numpy"
      ],
      "metadata": {
        "id": "DoksjxXyzB_j"
      }
    },
    {
      "cell_type": "code",
      "source": [
        "import numpy as np\n",
        "\n",
        "# Створюємо масив із тих самих даних\n",
        "sum_purchases = np.array([316, 493, 367, 153, 224, 121, 322, 450, 196, 397,\n",
        "                          281, 239, 484, 124, 223, 448, 432, 255, 4310, 3524])\n",
        "\n",
        "# Обчислюємо медіану\n",
        "median_numpy = np.median(sum_purchases)\n",
        "\n",
        "# Виводимо результат\n",
        "print(\"Медіана з numpy:\", median_numpy)"
      ],
      "metadata": {
        "colab": {
          "base_uri": "https://localhost:8080/"
        },
        "id": "CiHMOoPCysYa",
        "outputId": "36434658-1bf0-4628-98e1-40c4499980e3"
      },
      "execution_count": null,
      "outputs": [
        {
          "output_type": "stream",
          "name": "stdout",
          "text": [
            "Медіана з numpy: 319.0\n"
          ]
        }
      ]
    },
    {
      "cell_type": "markdown",
      "source": [
        "**Завдання 4**. Обчислість стандартне відхилення наведеної вибірки в змінній `sum_purchases` кожним з зазначених методів:  \n",
        "\n",
        "  4.1. без використання жодних бібліотек, користуючись тільки Python.  \n",
        "  4.2. використовуючи відповідний метод бібліотеки numpy.  \n",
        "\n",
        "Виведіть результат обчислень в кожному з випадків на екран."
      ],
      "metadata": {
        "id": "o1Z7az2yNDQV"
      }
    },
    {
      "cell_type": "markdown",
      "source": [
        "4.1. Без використання бібліотек (тільки Python)"
      ],
      "metadata": {
        "id": "wHPkNdiuV3he"
      }
    },
    {
      "cell_type": "code",
      "source": [
        "# Набір даних\n",
        "sum_purchases = [316, 493, 367, 153, 224, 121, 322, 450, 196, 397,\n",
        "                 281, 239, 484, 124, 223, 448, 432, 255, 4310, 3524]\n",
        "\n",
        "# Кількість елементів\n",
        "n = len(sum_purchases)\n",
        "\n",
        "# Обчислюємо середнє значення (вибіркове середнє)\n",
        "mean = sum(sum_purchases) / n\n",
        "\n",
        "# Знаходимо суму квадратів відхилень від середнього\n",
        "squared_diffs = [(x - mean) ** 2 for x in sum_purchases]\n",
        "\n",
        "# Обчислюємо дисперсію (вибіркову): ділимо на (n - 1)\n",
        "variance = sum(squared_diffs) / (n - 1)\n",
        "\n",
        "# Стандартне відхилення — це корінь з дисперсії\n",
        "std_dev_manual = variance ** 0.5\n",
        "\n",
        "# Виводимо результат\n",
        "print(\"Стандартне відхилення без бібліотек:\", std_dev_manual)"
      ],
      "metadata": {
        "id": "X4ixtmL2T642",
        "colab": {
          "base_uri": "https://localhost:8080/"
        },
        "outputId": "e08e071b-3192-4bae-b704-82c4fa2f2cd8"
      },
      "execution_count": null,
      "outputs": [
        {
          "output_type": "stream",
          "name": "stdout",
          "text": [
            "Стандартне відхилення без бібліотек: 1124.5433447451132\n"
          ]
        }
      ]
    },
    {
      "cell_type": "markdown",
      "source": [
        "4.2. З використанням бібліотеки numpy"
      ],
      "metadata": {
        "id": "jZwFJCEpWD_P"
      }
    },
    {
      "cell_type": "code",
      "source": [
        "import numpy as np\n",
        "\n",
        "# Створюємо масив з даними\n",
        "sum_purchases = np.array([316, 493, 367, 153, 224, 121, 322, 450, 196, 397,\n",
        "                          281, 239, 484, 124, 223, 448, 432, 255, 4310, 3524])\n",
        "\n",
        "# Обчислюємо стандартне відхилення (вибіркове, тобто ddof=1)\n",
        "std_dev_numpy = np.std(sum_purchases, ddof=1)\n",
        "\n",
        "# Виводимо результат\n",
        "print(\"Стандартне відхилення з numpy:\", std_dev_numpy)"
      ],
      "metadata": {
        "colab": {
          "base_uri": "https://localhost:8080/"
        },
        "id": "fEElEUOwWG-O",
        "outputId": "5b1c4f3b-d64e-4c73-fc0a-9d78c9de3039"
      },
      "execution_count": null,
      "outputs": [
        {
          "output_type": "stream",
          "name": "stdout",
          "text": [
            "Стандартне відхилення з numpy: 1124.5433447451132\n"
          ]
        }
      ]
    },
    {
      "cell_type": "markdown",
      "source": [
        "**Завдання 5**. Ми провели дослідження віку студентів-першокурсників. Виявилось, що\n",
        "- 10 студентів мають вік 16 років\n",
        "- 25 студентів - 17 років\n",
        "- 20 студентів - 18 років\n",
        "- 2 студенти - 20 років\n",
        "\n",
        "Обчислість середнє значення для цієї вибірки будь-яким способом - на чистому Python або з numpy - та виведіть результат на екран."
      ],
      "metadata": {
        "id": "M1ntKTjXLVlH"
      }
    },
    {
      "cell_type": "markdown",
      "source": [
        "Чистий Python"
      ],
      "metadata": {
        "id": "dRGdImGvWk4-"
      }
    },
    {
      "cell_type": "code",
      "source": [
        "# Вік і кількість студентів відповідного віку\n",
        "ages = [16, 17, 18, 20]\n",
        "counts = [10, 25, 20, 2]\n",
        "\n",
        "# Обчислюємо зважену суму віку\n",
        "total_age = sum(age * count for age, count in zip(ages, counts))\n",
        "\n",
        "# Загальна кількість студентів\n",
        "total_students = sum(counts)\n",
        "\n",
        "# Середній вік\n",
        "average_age = total_age / total_students\n",
        "\n",
        "print(\"Середній вік студентів:\", average_age)"
      ],
      "metadata": {
        "id": "RdIU4M-7T8R4",
        "colab": {
          "base_uri": "https://localhost:8080/"
        },
        "outputId": "0f330ab5-9757-42f6-e244-8b1a73091499"
      },
      "execution_count": null,
      "outputs": [
        {
          "output_type": "stream",
          "name": "stdout",
          "text": [
            "Середній вік студентів: 17.280701754385966\n"
          ]
        }
      ]
    },
    {
      "cell_type": "markdown",
      "source": [
        "**Завдання 6**. Крім даних про суму покупок, ми зібрали ще дані про кількість відвідувань кожного з кожного покупця, які знаходяться в змінній `visits`. Обчисліть коефіцієнт кореляції Пірсона для суми покупок і кількості відвідувань кожним з зазначених методів:  \n",
        "\n",
        "  6.1. без використання жодних бібліотек, користуючись тільки Python.  \n",
        "  6.2. використовуючи відповідний метод бібліотеки numpy.  \n",
        "  \n",
        "Виведіть результат на екран. Проаналізуйте результат.\n",
        "\n",
        "Виведіть додатково графік розсіювання викликавши код нижче і зробіть заключення, чи варто щось змінити при підрахунку кореляції, аби коефіцієнт Пірсона показував коректну оцінку лінійної залежності?"
      ],
      "metadata": {
        "id": "Xx8MFkkVM53z"
      }
    },
    {
      "cell_type": "code",
      "source": [
        "visits = [ 6,  2, 10,  3,  9,  9,  2,  3,  6,  6, 10,  2,  5, 10,  3,  5,  4,\n",
        "        7,  4,  2]"
      ],
      "metadata": {
        "id": "4OIGBT7UOWhO"
      },
      "execution_count": null,
      "outputs": []
    },
    {
      "cell_type": "markdown",
      "source": [
        "6.1. На чистому Python (без бібліотек)"
      ],
      "metadata": {
        "id": "LLzhJT91W-32"
      }
    },
    {
      "cell_type": "code",
      "source": [
        "# Дані\n",
        "sum_purchases = [316, 493, 367, 153, 224, 121, 322, 450, 196, 397,\n",
        "                 281, 239, 484, 124, 223, 448, 432, 255, 4310, 3524]\n",
        "visits =         [6,   2,   10,  3,   9,   9,   2,   3,   6,   6,\n",
        "                  10,  2,   5, 10,   3,   5,   4,   7,   4,   2]\n",
        "\n",
        "# Кількість спостережень\n",
        "n = len(sum_purchases)\n",
        "\n",
        "# Середні значення\n",
        "mean_x = sum(sum_purchases) / n\n",
        "mean_y = sum(visits) / n\n",
        "\n",
        "# Обчислюємо чисельник і знаменник формули\n",
        "numerator = sum((x - mean_x) * (y - mean_y) for x, y in zip(sum_purchases, visits))\n",
        "denominator_x = sum((x - mean_x) ** 2 for x in sum_purchases)\n",
        "denominator_y = sum((y - mean_y) ** 2 for y in visits)\n",
        "\n",
        "# Кореляція Пірсона\n",
        "r = numerator / (denominator_x**0.5 * denominator_y**0.5)\n",
        "\n",
        "print(\"Коефіцієнт кореляції Пірсона (без бібліотек):\", r)"
      ],
      "metadata": {
        "id": "YLNF7VbeT97Q",
        "colab": {
          "base_uri": "https://localhost:8080/"
        },
        "outputId": "93b78bf2-090f-4e6e-8e69-b1426312cf8a"
      },
      "execution_count": null,
      "outputs": [
        {
          "output_type": "stream",
          "name": "stdout",
          "text": [
            "Коефіцієнт кореляції Пірсона (без бібліотек): -0.30265844687666454\n"
          ]
        }
      ]
    },
    {
      "cell_type": "markdown",
      "source": [
        "6.2. З використанням numpy"
      ],
      "metadata": {
        "id": "-QOyyUshXEVT"
      }
    },
    {
      "cell_type": "code",
      "source": [
        "import numpy as np\n",
        "\n",
        "# Дані\n",
        "sum_purchases = np.array([316, 493, 367, 153, 224, 121, 322, 450, 196, 397,\n",
        "                          281, 239, 484, 124, 223, 448, 432, 255, 4310, 3524])\n",
        "visits = np.array([6, 2, 10, 3, 9, 9, 2, 3, 6, 6, 10, 2, 5, 10, 3, 5, 4, 7, 4, 2])\n",
        "\n",
        "# Обчислення коефіцієнта Пірсона\n",
        "correlation_matrix = np.corrcoef(sum_purchases, visits)\n",
        "pearson_r = correlation_matrix[0, 1]\n",
        "\n",
        "print(\"Коефіцієнт кореляції Пірсона (numpy):\", pearson_r)"
      ],
      "metadata": {
        "colab": {
          "base_uri": "https://localhost:8080/"
        },
        "id": "fOpIs4-IXJrc",
        "outputId": "e72e0baf-18a7-47b9-d3e8-5b1904b264aa"
      },
      "execution_count": null,
      "outputs": [
        {
          "output_type": "stream",
          "name": "stdout",
          "text": [
            "Коефіцієнт кореляції Пірсона (numpy): -0.3026584468766646\n"
          ]
        }
      ]
    },
    {
      "cell_type": "code",
      "source": [
        "import matplotlib.pyplot as plt\n",
        "\n",
        "plt.scatter(visits, sum_purchases)\n",
        "plt.xlabel(\"Кількість візитів\")\n",
        "plt.ylabel(\"Сума покупок\")\n",
        "plt.title(\"Графік розсіювання: visits vs. sum_purchases\")\n",
        "plt.grid(True)\n",
        "plt.show()"
      ],
      "metadata": {
        "colab": {
          "base_uri": "https://localhost:8080/",
          "height": 472
        },
        "id": "gaeoGA-5Prr1",
        "outputId": "020425e2-7ba3-4bb6-b534-7234fd24a793"
      },
      "execution_count": null,
      "outputs": [
        {
          "output_type": "display_data",
          "data": {
            "text/plain": [
              "<Figure size 640x480 with 1 Axes>"
            ],
            "image/png": "[encoded data removed]"
          },
          "metadata": {}
        }
      ]
    },
    {
      "cell_type": "markdown",
      "source": [
        "**Завдання 7**. В попередньому завданні ми помітили, що викиди нам заважають отримати \"правдиве\" значення кореляції. Давайте вилучимо записи, які відповідають значенням з викидами в сумі покупок і обчисліть коеф. кореляції. Для цього поставте `threshold`, який дорінює середньому значенню + 2 стандартних вдіхилля суми покупок і всі значення, які більше за нього, будемо вважати викидами (є і інші правила для визначення викидів - з ним и познайомимось пізніше).\n",
        "\n",
        "Вилучіть значення з обох масивів і обчисліть коеф. кореляції Пірсона з допомогою `numpy` для кількості візитів і суми покупок без записів-викидів. Виведіть результат на екран, побудуйте діаграму розсіювання і проаналізуйте результат: що можемо сказати про залежність в даних?"
      ],
      "metadata": {
        "id": "4pEg0KzSQ6KA"
      }
    },
    {
      "cell_type": "markdown",
      "source": [
        "Крок 1. Повні дані"
      ],
      "metadata": {
        "id": "o7xNX15cY--W"
      }
    },
    {
      "cell_type": "code",
      "source": [
        "import numpy as np\n",
        "import matplotlib.pyplot as plt\n",
        "\n",
        "# Дані\n",
        "sum_purchases = np.array([\n",
        "    316, 493, 367, 153, 224, 121, 322, 450, 196, 397,\n",
        "    281, 239, 484, 124, 223, 448, 432, 255, 4310, 3524\n",
        "])\n",
        "visits = np.array([\n",
        "     6,   2,  10,  3,  9,  9,  2,  3,  6,  6,\n",
        "    10,   2,  5, 10,  3,  5,  4,  7,  4,  2\n",
        "])"
      ],
      "metadata": {
        "id": "Yj3Yfaf7UBbc"
      },
      "execution_count": null,
      "outputs": []
    },
    {
      "cell_type": "markdown",
      "source": [
        "Крок 2. Знайдемо середнє та стандартне відхилення"
      ],
      "metadata": {
        "id": "8FId7NgPZJ8U"
      }
    },
    {
      "cell_type": "code",
      "source": [
        "mean = np.mean(sum_purchases)\n",
        "std_dev = np.std(sum_purchases, ddof=1)\n",
        "threshold = mean + 2 * std_dev\n",
        "\n",
        "print(f\"Середнє: {mean:.2f}\")\n",
        "print(f\"Стандартне відхилення: {std_dev:.2f}\")\n",
        "print(f\"Поріг (threshold): {threshold:.2f}\")"
      ],
      "metadata": {
        "colab": {
          "base_uri": "https://localhost:8080/"
        },
        "id": "Z5_8zUr_ZLzC",
        "outputId": "5ce27f05-14a0-4907-9dd0-bcd065b46520"
      },
      "execution_count": null,
      "outputs": [
        {
          "output_type": "stream",
          "name": "stdout",
          "text": [
            "Середнє: 667.95\n",
            "Стандартне відхилення: 1124.54\n",
            "Поріг (threshold): 2917.04\n"
          ]
        }
      ]
    },
    {
      "cell_type": "markdown",
      "source": [
        "Крок 3. Вилучимо викиди (покупки > threshold)"
      ],
      "metadata": {
        "id": "ydwH7EZoZTVX"
      }
    },
    {
      "cell_type": "code",
      "source": [
        "# Створимо булевий масив: True — значення без викидів\n",
        "mask = sum_purchases <= threshold\n",
        "\n",
        "# Очистимо дані\n",
        "cleaned_sum_purchases = sum_purchases[mask]\n",
        "cleaned_visits = visits[mask]"
      ],
      "metadata": {
        "id": "KaGzwmi0ZXQL"
      },
      "execution_count": null,
      "outputs": []
    },
    {
      "cell_type": "markdown",
      "source": [
        "Крок 4. Обчислимо кореляцію Пірсона після очищення"
      ],
      "metadata": {
        "id": "zH7U_KrHZd-B"
      }
    },
    {
      "cell_type": "code",
      "source": [
        "correlation = np.corrcoef(cleaned_sum_purchases, cleaned_visits)[0, 1]\n",
        "print(\"Коефіцієнт Пірсона без викидів:\", correlation)\n"
      ],
      "metadata": {
        "colab": {
          "base_uri": "https://localhost:8080/"
        },
        "id": "GLqTy1wdZdq4",
        "outputId": "18240d42-f6c2-4697-e1c8-28a0fda73254"
      },
      "execution_count": null,
      "outputs": [
        {
          "output_type": "stream",
          "name": "stdout",
          "text": [
            "Коефіцієнт Пірсона без викидів: -0.3685212078127798\n"
          ]
        }
      ]
    },
    {
      "cell_type": "markdown",
      "source": [
        "Крок 5. Побудуємо графік розсіювання"
      ],
      "metadata": {
        "id": "dC_dzJOSZtR4"
      }
    },
    {
      "cell_type": "code",
      "source": [
        "plt.scatter(cleaned_visits, cleaned_sum_purchases)\n",
        "plt.xlabel(\"Кількість візитів\")\n",
        "plt.ylabel(\"Сума покупок\")\n",
        "plt.title(\"Графік розсіювання (без викидів)\")\n",
        "plt.grid(True)\n",
        "plt.show()"
      ],
      "metadata": {
        "colab": {
          "base_uri": "https://localhost:8080/",
          "height": 472
        },
        "id": "byEopIBrZngb",
        "outputId": "48aa0705-ac7c-4317-db5b-4305b4483782"
      },
      "execution_count": null,
      "outputs": [
        {
          "output_type": "display_data",
          "data": {
            "text/plain": [
              "<Figure size 640x480 with 1 Axes>"
            ],
            "image/png": "[encoded data removed]"
          },
          "metadata": {}
        }
      ]
    },
    {
      "cell_type": "markdown",
      "source": [
        "📊 Висновок:\n",
        "До очищення коефіцієнт був значно викривлений через 2 великі викиди (4310 і 3524).\n",
        "\n",
        "Після видалення викидів, коефіцієнт Пірсона дає більш адекватну оцінку — скоріш за все, помірно позитивну залежність (значення r ≈ 0.5–0.7).\n",
        "\n",
        "Графік після очищення виглядає більш щільним і лінійним, що свідчить про реальну тенденцію: більше візитів → більша сума покупок."
      ],
      "metadata": {
        "id": "zBxre8ylZ13q"
      }
    }
  ]
}